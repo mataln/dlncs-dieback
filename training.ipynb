{
 "cells": [
  {
   "cell_type": "code",
   "execution_count": 1,
   "metadata": {},
   "outputs": [],
   "source": [
    "import os\n",
    "import fileinput"
   ]
  },
  {
   "cell_type": "markdown",
   "metadata": {},
   "source": [
    "## Notebook 1: Model Training\n",
    "\n",
    "This notebook contrains code to train individual models on each of the nine areas located in the data. You will need to download said data at 10.5281/zenodo.10646992 if you wish to run it. Code to convert GeoTIFFs & Shapefiles into COCO format is not included in this repository as it will be released at a later date in a more polished package."
   ]
  },
  {
   "cell_type": "markdown",
   "metadata": {},
   "source": [
    "Cell 1: Merge COCO files for each of the individual areas into COCO files describing annotations in 8 of the 9 areas. The remaining area is set aside as the test set.\n",
    "\n",
    "The original COCO files for each area should be located at this_repo/almorox/annotations/area_i_1024_COCO.json etc. for area i. The data in the zenodo repository is already structured this way."
   ]
  },
  {
   "cell_type": "code",
   "execution_count": 1,
   "metadata": {},
   "outputs": [
    {
     "ename": "NameError",
     "evalue": "name 'os' is not defined",
     "output_type": "error",
     "traceback": [
      "\u001b[0;31m---------------------------------------------------------------------------\u001b[0m",
      "\u001b[0;31mNameError\u001b[0m                                 Traceback (most recent call last)",
      "\u001b[0;32m/tmp/ipykernel_1406/739156996.py\u001b[0m in \u001b[0;36m<module>\u001b[0;34m\u001b[0m\n\u001b[1;32m     35\u001b[0m \u001b[0;34m\u001b[0m\u001b[0m\n\u001b[1;32m     36\u001b[0m \u001b[0;32mfor\u001b[0m \u001b[0mareas\u001b[0m \u001b[0;32min\u001b[0m \u001b[0marea_lists\u001b[0m\u001b[0;34m:\u001b[0m\u001b[0;34m\u001b[0m\u001b[0;34m\u001b[0m\u001b[0m\n\u001b[0;32m---> 37\u001b[0;31m     \u001b[0mmerge_areas\u001b[0m\u001b[0;34m(\u001b[0m\u001b[0mareas\u001b[0m\u001b[0;34m,\u001b[0m \u001b[0mtile_size\u001b[0m\u001b[0;34m)\u001b[0m\u001b[0;34m\u001b[0m\u001b[0;34m\u001b[0m\u001b[0m\n\u001b[0m",
      "\u001b[0;32m/tmp/ipykernel_1406/739156996.py\u001b[0m in \u001b[0;36mmerge_areas\u001b[0;34m(areas, tile_size)\u001b[0m\n\u001b[1;32m     13\u001b[0m \u001b[0;34m\u001b[0m\u001b[0m\n\u001b[1;32m     14\u001b[0m     \u001b[0;31m#Merge first two areas without any removal\u001b[0m\u001b[0;34m\u001b[0m\u001b[0;34m\u001b[0m\u001b[0;34m\u001b[0m\u001b[0m\n\u001b[0;32m---> 15\u001b[0;31m     os.system(f\"python merge.py \\\n\u001b[0m\u001b[1;32m     16\u001b[0m         \u001b[0malmorox\u001b[0m\u001b[0;34m/\u001b[0m\u001b[0mtiled_\u001b[0m\u001b[0;34m{\u001b[0m\u001b[0mtile_size\u001b[0m\u001b[0;34m}\u001b[0m\u001b[0;34m/\u001b[0m\u001b[0mannotations\u001b[0m\u001b[0;34m/\u001b[0m\u001b[0marea_\u001b[0m\u001b[0;34m{\u001b[0m\u001b[0mareas\u001b[0m\u001b[0;34m[\u001b[0m\u001b[0;36m0\u001b[0m\u001b[0;34m]\u001b[0m\u001b[0;34m}\u001b[0m\u001b[0m_\u001b[0m\u001b[0;34m{\u001b[0m\u001b[0mtile_size\u001b[0m\u001b[0;34m}\u001b[0m\u001b[0m_COCO\u001b[0m\u001b[0;34m.\u001b[0m\u001b[0mjson\u001b[0m\u001b[0;31m \u001b[0m\u001b[0;31m\\\u001b[0m\u001b[0;34m\u001b[0m\u001b[0;34m\u001b[0m\u001b[0m\n\u001b[1;32m     17\u001b[0m         \u001b[0malmorox\u001b[0m\u001b[0;34m/\u001b[0m\u001b[0mtiled_\u001b[0m\u001b[0;34m{\u001b[0m\u001b[0mtile_size\u001b[0m\u001b[0;34m}\u001b[0m\u001b[0;34m/\u001b[0m\u001b[0mannotations\u001b[0m\u001b[0;34m/\u001b[0m\u001b[0marea_\u001b[0m\u001b[0;34m{\u001b[0m\u001b[0mareas\u001b[0m\u001b[0;34m[\u001b[0m\u001b[0;36m1\u001b[0m\u001b[0;34m]\u001b[0m\u001b[0;34m}\u001b[0m\u001b[0m_\u001b[0m\u001b[0;34m{\u001b[0m\u001b[0mtile_size\u001b[0m\u001b[0;34m}\u001b[0m\u001b[0m_COCO\u001b[0m\u001b[0;34m.\u001b[0m\u001b[0mjson\u001b[0m\u001b[0;31m \u001b[0m\u001b[0;31m\\\u001b[0m\u001b[0;34m\u001b[0m\u001b[0;34m\u001b[0m\u001b[0m\n",
      "\u001b[0;31mNameError\u001b[0m: name 'os' is not defined"
     ]
    }
   ],
   "source": [
    "%%capture\n",
    "\n",
    "#Merge areas into single COCO datasets for cross-validation\n",
    "#=================================\n",
    "\n",
    "def merge_areas(areas:list, tile_size):\n",
    "    \"\"\"\n",
    "    Merge areas specified in areas to one coco file\n",
    "    e.g merge areas = [1,2,3,4,5,6,7,8] etc.\n",
    "    \"\"\"\n",
    "    if len(areas) <= 1:\n",
    "        raise ValueError(\"Specify more than one area\")\n",
    "\n",
    "    merged_areas = str(areas[0]) + str(areas[1])\n",
    "\n",
    "    #Merge first two areas without any removal\n",
    "    os.system(f\"python merge.py \\\n",
    "        almorox/tiled_{tile_size}/annotations/area_{areas[0]}_{tile_size}_COCO.json \\\n",
    "        almorox/tiled_{tile_size}/annotations/area_{areas[1]}_{tile_size}_COCO.json \\\n",
    "        almorox/tiled_{tile_size}/annotations/area_{merged_areas}_{tile_size}_COCO.json\")\n",
    "\n",
    "\n",
    "    for i in range(2, len(areas)): #Loop over r.h area\n",
    "        print(areas[i])\n",
    "        os.system(f\"python merge.py \\\n",
    "        almorox/tiled_{tile_size}/annotations/area_{merged_areas}_{tile_size}_COCO.json \\\n",
    "        almorox/tiled_{tile_size}/annotations/area_{areas[i]}_{tile_size}_COCO.json \\\n",
    "        almorox/tiled_{tile_size}/annotations/area_{merged_areas + str(areas[i])}_{tile_size}_COCO.json\")\n",
    "\n",
    "        os.system(f\"rm almorox/tiled_{tile_size}/annotations/area_{merged_areas}_{tile_size}_COCO.json\")\n",
    "        merged_areas += str(areas[i])\n",
    "\n",
    "test_areas = list(range(1,10))\n",
    "area_lists = [[x for x in range(1,10) if x != test_area] for test_area in test_areas]\n",
    "\n",
    "tile_size = 1024\n",
    "\n",
    "for areas in area_lists:\n",
    "    merge_areas(areas, tile_size)"
   ]
  },
  {
   "cell_type": "markdown",
   "metadata": {},
   "source": [
    "Cell 2: Generate mmdetection config files to train a Mask R-CNN model for each of the COCO files generated in cell 1. A special template version of the config file with blanks in place of the relevant area numbers should be placed at this_repo/almorox/configs/BASE_almo_mask_rcnn_r101_fpn_mstrain-poly_3x_coco.py. \n",
    "\n",
    "Again, it's already in the right place in the zenodo repository."
   ]
  },
  {
   "cell_type": "code",
   "execution_count": 24,
   "metadata": {},
   "outputs": [],
   "source": [
    "#Generate cfg files for each area===========================================================\n",
    "train_areas_str =  [''.join(map(str, area_list)) for area_list in area_lists]\n",
    "test_areas_str = [str(test_area) for test_area in test_areas]\n",
    "tile_size_str = str(tile_size)\n",
    "\n",
    "base_cfg = \"almorox/configs/BASE_almo_mask_rcnn_r101_fpn_mstrain-poly_3x_coco.py\" \n",
    "out_dir = \"almorox/configs/areas\"\n",
    "\n",
    "os.makedirs(out_dir, exist_ok=True)\n",
    "\n",
    "with open(base_cfg, 'r') as base_file:\n",
    "    base_data = base_file.read()\n",
    "\n",
    "for train_areas, test_area in zip(train_areas_str, test_areas_str):\n",
    "    data = base_data.replace(\"TSIZE\", tile_size_str)\n",
    "    data = data.replace(\"TRAINAREAS\", train_areas)\n",
    "    data = data.replace(\"TESTAREA\", test_area)\n",
    "\n",
    "    out_file = f\"{out_dir}/TESTAREA{test_area}_almo_mask_rcnn_r101_fpn_mstrain-poly_3x_coco.py\"\n",
    "    with open(out_file, 'w') as out_file:\n",
    "        out_file.write(data)\n"
   ]
  },
  {
   "cell_type": "markdown",
   "metadata": {},
   "source": [
    "Cell 3: Finally, train models according to each of the configs. The outputs, including checkpoints, will be placed under this_repo/work_dirs\n",
    "\n",
    "The models used in the publication are included in the zenodo repository, as is the required COCO pre-trained initialisation."
   ]
  },
  {
   "cell_type": "code",
   "execution_count": 2,
   "metadata": {},
   "outputs": [
    {
     "name": "stdout",
     "output_type": "stream",
     "text": [
      "==================\n",
      "TRAINING FOR TEST AREA 1\n",
      "==================\n",
      "==================\n",
      "==================\n",
      "==================\n",
      "==================\n"
     ]
    },
    {
     "ename": "NameError",
     "evalue": "name 'os' is not defined",
     "output_type": "error",
     "traceback": [
      "\u001b[0;31m---------------------------------------------------------------------------\u001b[0m",
      "\u001b[0;31mNameError\u001b[0m                                 Traceback (most recent call last)",
      "\u001b[0;32m/tmp/ipykernel_1406/379028349.py\u001b[0m in \u001b[0;36m<module>\u001b[0;34m\u001b[0m\n\u001b[1;32m     12\u001b[0m     \u001b[0mprint\u001b[0m\u001b[0;34m(\u001b[0m\u001b[0;34m\"==================\"\u001b[0m\u001b[0;34m)\u001b[0m\u001b[0;34m\u001b[0m\u001b[0;34m\u001b[0m\u001b[0m\n\u001b[1;32m     13\u001b[0m     \u001b[0mconfig_file\u001b[0m \u001b[0;34m=\u001b[0m \u001b[0;34mf\"{config_dir}/TESTAREA{test_area}_almo_mask_rcnn_r101_fpn_mstrain-poly_3x_coco.py\"\u001b[0m\u001b[0;34m\u001b[0m\u001b[0;34m\u001b[0m\u001b[0m\n\u001b[0;32m---> 14\u001b[0;31m     \u001b[0mos\u001b[0m\u001b[0;34m.\u001b[0m\u001b[0msystem\u001b[0m\u001b[0;34m(\u001b[0m\u001b[0;34mf\"python train.py {config_file}\"\u001b[0m\u001b[0;34m)\u001b[0m\u001b[0;34m\u001b[0m\u001b[0;34m\u001b[0m\u001b[0m\n\u001b[0m\u001b[1;32m     15\u001b[0m \u001b[0;34m\u001b[0m\u001b[0m\n\u001b[1;32m     16\u001b[0m \u001b[0;31m#!python ../train.py ../configs/mask_rcnn/almo_mask_rcnn_r101_fpn_mstrain-poly_3x_coco.py\u001b[0m\u001b[0;34m\u001b[0m\u001b[0;34m\u001b[0m\u001b[0;34m\u001b[0m\u001b[0m\n",
      "\u001b[0;31mNameError\u001b[0m: name 'os' is not defined"
     ]
    }
   ],
   "source": [
    "#Train all the models\n",
    "\n",
    "config_dir = \"almorox/configs/areas\"\n",
    "\n",
    "for test_area in ['1']:#test_areas_str:\n",
    "    print(\"==================\")\n",
    "    print(f\"TRAINING FOR TEST AREA {test_area}\")\n",
    "    print(\"==================\")\n",
    "    print(\"==================\")\n",
    "    print(\"==================\")\n",
    "    print(\"==================\")\n",
    "    print(\"==================\")\n",
    "    config_file = f\"{config_dir}/TESTAREA{test_area}_almo_mask_rcnn_r101_fpn_mstrain-poly_3x_coco.py\"\n",
    "    os.system(f\"python train.py {config_file}\")\n",
    "\n",
    "#!python ../train.py ../configs/mask_rcnn/almo_mask_rcnn_r101_fpn_mstrain-poly_3x_coco.py"
   ]
  },
  {
   "cell_type": "code",
   "execution_count": null,
   "metadata": {},
   "outputs": [],
   "source": []
  }
 ],
 "metadata": {
  "kernelspec": {
   "display_name": "mmdet",
   "language": "python",
   "name": "python3"
  },
  "language_info": {
   "codemirror_mode": {
    "name": "ipython",
    "version": 3
   },
   "file_extension": ".py",
   "mimetype": "text/x-python",
   "name": "python",
   "nbconvert_exporter": "python",
   "pygments_lexer": "ipython3",
   "version": "3.7.16"
  }
 },
 "nbformat": 4,
 "nbformat_minor": 2
}
